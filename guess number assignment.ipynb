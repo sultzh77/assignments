{
 "cells": [
  {
   "cell_type": "code",
   "execution_count": 49,
   "metadata": {
    "scrolled": false
   },
   "outputs": [
    {
     "name": "stdout",
     "output_type": "stream",
     "text": [
      "Компьютер загадал число: 45\n",
      "Используем Магический шар и вуаля:\n",
      "Наш магический шар угадал число 45 за 5 попыток.\n"
     ]
    }
   ],
   "source": [
    "import random\n",
    "count = 0   # счетчик попыток\n",
    "predict_min = 1\n",
    "predict_max = 101\n",
    "number = random.randint(predict_min,predict_max)      # загадали число\n",
    "print (\"Компьютер загадал число:\", number)\n",
    "print('Используем Магический шар и вуаля:')\n",
    "guess_list = [] #диапазон чисел в котором угадываем число\n",
    "\n",
    "predict = random.randint(predict_min,predict_max) # предполагаемое число\n",
    "\n",
    "while number != predict:\n",
    "    \n",
    "    count += 1 # плюсуем попытку\n",
    "        \n",
    "    if number > predict: \n",
    "                     \n",
    "        guess_list = range(predict,predict_max)\n",
    "        middle_index = round(len(guess_list)/2)\n",
    "        predict_min = predict\n",
    "        predict = guess_list[middle_index]\n",
    "               \n",
    "    elif number < predict:\n",
    "                       \n",
    "        guess_list = range(predict_min,predict)\n",
    "        middle_index = round(len(guess_list)/2)\n",
    "        predict_max = predict\n",
    "        predict = guess_list[middle_index]\n",
    "else:\n",
    "    if number == predict: \n",
    "        print(f\"Наш магический шар угадал число {number} за {count} попыток.\")   \n",
    "\n",
    "\n",
    "\n",
    "\n",
    "\n"
   ]
  },
  {
   "cell_type": "code",
   "execution_count": null,
   "metadata": {},
   "outputs": [],
   "source": []
  },
  {
   "cell_type": "code",
   "execution_count": null,
   "metadata": {},
   "outputs": [],
   "source": []
  },
  {
   "cell_type": "code",
   "execution_count": null,
   "metadata": {},
   "outputs": [],
   "source": []
  },
  {
   "cell_type": "code",
   "execution_count": null,
   "metadata": {},
   "outputs": [],
   "source": []
  },
  {
   "cell_type": "code",
   "execution_count": null,
   "metadata": {},
   "outputs": [],
   "source": []
  }
 ],
 "metadata": {
  "kernelspec": {
   "display_name": "Python 3",
   "language": "python",
   "name": "python3"
  },
  "language_info": {
   "codemirror_mode": {
    "name": "ipython",
    "version": 3
   },
   "file_extension": ".py",
   "mimetype": "text/x-python",
   "name": "python",
   "nbconvert_exporter": "python",
   "pygments_lexer": "ipython3",
   "version": "3.8.5"
  }
 },
 "nbformat": 4,
 "nbformat_minor": 4
}
